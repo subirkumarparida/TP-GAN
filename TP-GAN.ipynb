{
 "cells": [
  {
   "cell_type": "markdown",
   "id": "7e8b50bc",
   "metadata": {},
   "source": [
    "## TP-GAN (PyTorch)"
   ]
  },
  {
   "cell_type": "code",
   "execution_count": 2,
   "id": "fab15eb1",
   "metadata": {},
   "outputs": [],
   "source": [
    "import torch\n",
    "import torch.nn as nn\n",
    "import torch.nn.functional as F\n",
    "import torchvision\n",
    "from torchvision.utils import save_image\n",
    "from torchvision.transforms import ToTensor, Normalize, Compose\n",
    "import torchvision.transforms as transforms\n",
    "from torchvision.transforms import ToTensor\n",
    "from torch.utils.data import DataLoader\n",
    "from torch.utils.data import TensorDataset\n",
    "from torch.utils.data.sampler import SubsetRandomSampler\n",
    "import torchvision.transforms as tt\n",
    "from torchvision.datasets import ImageFolder\n",
    "from torch.utils.data import random_split\n",
    "from torchvision.datasets.utils import download_url\n",
    "import os\n",
    "#import cv2\n",
    "import math\n",
    "import tarfile\n",
    "import numpy as np\n",
    "import matplotlib\n",
    "import matplotlib.pyplot as plt\n",
    "from IPython.display import FileLink\n",
    "from IPython.display import Image"
   ]
  },
  {
   "cell_type": "code",
   "execution_count": 160,
   "id": "fbfda156",
   "metadata": {},
   "outputs": [],
   "source": [
    "def lrelu(_input):\n",
    "    model = nn.LeakyReLU(0.2)\n",
    "    return model(_input)\n",
    "\n",
    "def batch_norm():\n",
    "    pass\n",
    "\n",
    "def conv_2d(_input, ni, nf, ks, stride=2):\n",
    "    model = nn.Conv2d(in_channels=ni, out_channels=nf, kernel_size=ks, stride=stride, padding=ks//2, bias=False)\n",
    "    return model(_input)\n",
    "\n",
    "def conv_bn(_input, ni, nf, ks, stride):\n",
    "    #out1 = conv_2d(_input, ni, nf, ks, stride)\n",
    "    #model2 = nn.BatchNorm2d(nf)\n",
    "    #return model2(out1)\n",
    "    model = nn.Sequential(nn.Conv2d(ni, nf, kernel_size=ks, stride=stride, padding=ks//2), \n",
    "                          nn.BatchNorm2d(nf)\n",
    "                         )\n",
    "    return model(_input)\n",
    "\n",
    "def conv_bn_lrelu(_input, ni, nf, ks, stride):\n",
    "    out1 = conv_bn(_input, ni, nf, ks, stride)\n",
    "    out2 = lrelu(out1)\n",
    "    return out2\n",
    "    \n",
    "def fc_nn(_input, input_size, output_size):\n",
    "    model = nn.Sequential(nn.Flatten(), \n",
    "                          nn.Linear(input_size, output_size)\n",
    "                         )\n",
    "    return model(_input)"
   ]
  },
  {
   "cell_type": "code",
   "execution_count": 125,
   "id": "5b48891b",
   "metadata": {},
   "outputs": [],
   "source": [
    "def res_block(_input, ni, ks=3, stride=1):\n",
    "    out1 = conv_bn_lrelu(_input, ni, ni, ks, stride)\n",
    "    out2 = conv_bn(out1, ni, ni, ks, stride)\n",
    "    out3 = _input + out2\n",
    "    out4 = lrelu(out3)\n",
    "    return out4"
   ]
  },
  {
   "cell_type": "code",
   "execution_count": 169,
   "id": "28f9222f",
   "metadata": {},
   "outputs": [],
   "source": [
    "def generator_global_encoder(_input):\n",
    "    ni = 3\n",
    "    nf = 64\n",
    "    \n",
    "    conv0_ = conv_2d(_input, ni, nf, ks=7, stride=1)\n",
    "    conv0 = lrelu(conv0_)\n",
    "    conv0r = res_block(conv0, nf, ks=7)\n",
    "    \n",
    "    conv1 = conv_bn_lrelu(conv0r, nf*1, nf*1, ks=5, stride=2)\n",
    "    conv1r = res_block(conv1, nf*1, ks=5)\n",
    "    \n",
    "    conv2 = conv_bn_lrelu(conv1r, nf*1, nf*2, ks=3, stride=2)\n",
    "    conv2r = res_block(conv2, nf*2, ks=3)\n",
    "    \n",
    "    conv3 = conv_bn_lrelu(conv2r, nf*2, nf*4, ks=3, stride=2)\n",
    "    conv3r = res_block(conv3, nf*4, ks=3)\n",
    "    \n",
    "    conv4 = conv_bn_lrelu(conv3r, nf*4, nf*8, ks=3, stride=2)\n",
    "    conv4r1 = res_block(conv4, nf*8, ks=3)\n",
    "    conv4r2 = res_block(conv4r1, nf*8, ks=3)\n",
    "    conv4r3 = res_block(conv4r2, nf*8, ks=3)\n",
    "    conv4r4 = res_block(conv4r3, nf*8, ks=3)\n",
    "    \n",
    "    fc1 = fc_nn(conv4r4, 64*512, 512)\n",
    "    fc2 = torch.maximum(fc1[:, 0:256], fc1[:, 256:])\n",
    "    \n",
    "    return fc2"
   ]
  },
  {
   "cell_type": "code",
   "execution_count": 170,
   "id": "79f5e88e",
   "metadata": {},
   "outputs": [],
   "source": [
    "input1 = torch.randn(48, 3, 128, 128)"
   ]
  },
  {
   "cell_type": "code",
   "execution_count": 171,
   "id": "1f9af7c8",
   "metadata": {},
   "outputs": [
    {
     "data": {
      "text/plain": [
       "torch.Size([48, 256])"
      ]
     },
     "execution_count": 171,
     "metadata": {},
     "output_type": "execute_result"
    }
   ],
   "source": [
    "result = generator_global_encoder(input1)\n",
    "result.shape"
   ]
  },
  {
   "cell_type": "code",
   "execution_count": 168,
   "id": "7e16761b",
   "metadata": {},
   "outputs": [
    {
     "data": {
      "text/plain": [
       "torch.Size([48, 256])"
      ]
     },
     "execution_count": 168,
     "metadata": {},
     "output_type": "execute_result"
    }
   ],
   "source": [
    "result[:, 0:256].shape"
   ]
  },
  {
   "cell_type": "code",
   "execution_count": null,
   "id": "70ea30d9",
   "metadata": {},
   "outputs": [],
   "source": []
  },
  {
   "cell_type": "code",
   "execution_count": null,
   "id": "4607233c",
   "metadata": {},
   "outputs": [],
   "source": []
  },
  {
   "cell_type": "code",
   "execution_count": 59,
   "id": "fb44439d",
   "metadata": {
    "scrolled": true
   },
   "outputs": [],
   "source": [
    "c = res_block(input2, 16, 3)"
   ]
  },
  {
   "cell_type": "code",
   "execution_count": 60,
   "id": "7ecb86af",
   "metadata": {},
   "outputs": [
    {
     "data": {
      "text/plain": [
       "torch.Size([20, 16, 600, 50])"
      ]
     },
     "execution_count": 60,
     "metadata": {},
     "output_type": "execute_result"
    }
   ],
   "source": [
    "c.shape"
   ]
  },
  {
   "cell_type": "code",
   "execution_count": null,
   "id": "612f75b1",
   "metadata": {},
   "outputs": [],
   "source": []
  },
  {
   "cell_type": "code",
   "execution_count": null,
   "id": "e4340d68",
   "metadata": {},
   "outputs": [],
   "source": []
  },
  {
   "cell_type": "code",
   "execution_count": 19,
   "id": "43d8fe98",
   "metadata": {},
   "outputs": [],
   "source": [
    "m = nn.LeakyReLU(0.1)"
   ]
  },
  {
   "cell_type": "code",
   "execution_count": 20,
   "id": "f56a4c74",
   "metadata": {},
   "outputs": [
    {
     "data": {
      "text/plain": [
       "LeakyReLU(negative_slope=0.1)"
      ]
     },
     "execution_count": 20,
     "metadata": {},
     "output_type": "execute_result"
    }
   ],
   "source": [
    "m"
   ]
  },
  {
   "cell_type": "code",
   "execution_count": 25,
   "id": "80c5d38d",
   "metadata": {},
   "outputs": [],
   "source": [
    "input1 = torch.randn(2)"
   ]
  },
  {
   "cell_type": "code",
   "execution_count": 26,
   "id": "9745b592",
   "metadata": {},
   "outputs": [
    {
     "data": {
      "text/plain": [
       "tensor([-0.4027,  0.3916])"
      ]
     },
     "execution_count": 26,
     "metadata": {},
     "output_type": "execute_result"
    }
   ],
   "source": [
    "input1"
   ]
  },
  {
   "cell_type": "code",
   "execution_count": 27,
   "id": "bfd77c34",
   "metadata": {},
   "outputs": [],
   "source": [
    "output = m(input1)"
   ]
  },
  {
   "cell_type": "code",
   "execution_count": 28,
   "id": "283a239e",
   "metadata": {},
   "outputs": [
    {
     "data": {
      "text/plain": [
       "tensor([-0.0403,  0.3916])"
      ]
     },
     "execution_count": 28,
     "metadata": {},
     "output_type": "execute_result"
    }
   ],
   "source": [
    "output"
   ]
  },
  {
   "cell_type": "code",
   "execution_count": null,
   "id": "6c9096c4",
   "metadata": {},
   "outputs": [],
   "source": []
  },
  {
   "cell_type": "code",
   "execution_count": null,
   "id": "1312a297",
   "metadata": {},
   "outputs": [],
   "source": []
  },
  {
   "cell_type": "code",
   "execution_count": 46,
   "id": "aa2f6300",
   "metadata": {},
   "outputs": [],
   "source": [
    "m = nn.Conv2d(16, 33, 3, 2, 1)\n",
    "input2 = torch.randn(20, 16, 600, 50)\n",
    "output = m(input2)"
   ]
  },
  {
   "cell_type": "code",
   "execution_count": 22,
   "id": "5416f982",
   "metadata": {},
   "outputs": [
    {
     "data": {
      "text/plain": [
       "torch.Size([20, 33, 25, 25])"
      ]
     },
     "execution_count": 22,
     "metadata": {},
     "output_type": "execute_result"
    }
   ],
   "source": [
    "output.shape"
   ]
  },
  {
   "cell_type": "code",
   "execution_count": 10,
   "id": "674297d8",
   "metadata": {},
   "outputs": [
    {
     "data": {
      "text/plain": [
       "torch.Size([20, 16, 50, 100])"
      ]
     },
     "execution_count": 10,
     "metadata": {},
     "output_type": "execute_result"
    }
   ],
   "source": [
    "input2.shape"
   ]
  },
  {
   "cell_type": "code",
   "execution_count": 11,
   "id": "b39165e6",
   "metadata": {},
   "outputs": [
    {
     "data": {
      "text/plain": [
       "Conv2d(16, 33, kernel_size=(3, 3), stride=(2, 2), padding=(1, 1))"
      ]
     },
     "execution_count": 11,
     "metadata": {},
     "output_type": "execute_result"
    }
   ],
   "source": [
    "m"
   ]
  },
  {
   "cell_type": "code",
   "execution_count": null,
   "id": "af44de19",
   "metadata": {},
   "outputs": [],
   "source": []
  },
  {
   "cell_type": "code",
   "execution_count": null,
   "id": "083953a0",
   "metadata": {},
   "outputs": [],
   "source": []
  },
  {
   "cell_type": "code",
   "execution_count": 67,
   "id": "5cfd0fdb",
   "metadata": {},
   "outputs": [
    {
     "data": {
      "text/plain": [
       "torch.Size([20, 33, 300, 25])"
      ]
     },
     "execution_count": 67,
     "metadata": {},
     "output_type": "execute_result"
    }
   ],
   "source": [
    "input2 = torch.randn(20, 16, 600, 50)\n",
    "a = conv_2d(input2, 16, 33, 3)\n",
    "a.shape"
   ]
  },
  {
   "cell_type": "code",
   "execution_count": 18,
   "id": "4b09dc4f",
   "metadata": {},
   "outputs": [],
   "source": [
    "b = conv_bn_lrelu(input2, 16, 33, 3, 2)"
   ]
  },
  {
   "cell_type": "code",
   "execution_count": 19,
   "id": "ce5e9449",
   "metadata": {},
   "outputs": [
    {
     "data": {
      "text/plain": [
       "torch.Size([20, 33, 25, 50])"
      ]
     },
     "execution_count": 19,
     "metadata": {},
     "output_type": "execute_result"
    }
   ],
   "source": [
    "b.shape"
   ]
  }
 ],
 "metadata": {
  "kernelspec": {
   "display_name": "Python 3",
   "language": "python",
   "name": "python3"
  },
  "language_info": {
   "codemirror_mode": {
    "name": "ipython",
    "version": 3
   },
   "file_extension": ".py",
   "mimetype": "text/x-python",
   "name": "python",
   "nbconvert_exporter": "python",
   "pygments_lexer": "ipython3",
   "version": "3.8.8"
  }
 },
 "nbformat": 4,
 "nbformat_minor": 5
}
